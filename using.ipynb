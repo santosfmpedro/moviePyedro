{
 "cells": [
  {
   "cell_type": "code",
   "execution_count": 1,
   "metadata": {},
   "outputs": [],
   "source": [
    "from moviepy import *\n"
   ]
  },
  {
   "cell_type": "code",
   "execution_count": 9,
   "metadata": {},
   "outputs": [],
   "source": [
    "import moviepy.editor as mpy\n",
    "\n",
    "vcodec =   \"libx264\"\n",
    "\n",
    "videoquality = \"24\"\n",
    "\n",
    "# slow, ultrafast, superfast, veryfast, faster, fast, medium, slow, slower, veryslow\n",
    "compression = \"slow\"\n",
    "\n",
    "title = \"E:\\coding\\github\\moviePyedro\\movies\\intros\\intro\"\n",
    "loadtitle = title + '.3gp'\n",
    "savetitle = title + '.mp4'\n",
    "\n",
    "# modify these start and end times for your subclips\n",
    "cuts = [('00:00:00.949', '00:00:01.152'),\n",
    "        ('00:00:02.328', '00:00:03.077')]\n"
   ]
  },
  {
   "cell_type": "code",
   "execution_count": 12,
   "metadata": {},
   "outputs": [],
   "source": [
    "video = mpy.VideoFileClip(loadtitle)\n"
   ]
  },
  {
   "cell_type": "code",
   "execution_count": 19,
   "metadata": {},
   "outputs": [],
   "source": [
    "clips = []\n",
    "for cut in cuts:\n",
    "    clip = video.subclip(cut[0], cut[1])\n",
    "    clips.append(clip)\n",
    "\n",
    "final_clip = mpy.concatenate_videoclips(clips)"
   ]
  },
  {
   "cell_type": "code",
   "execution_count": 15,
   "metadata": {},
   "outputs": [
    {
     "data": {
      "text/plain": [
       "<moviepy.video.VideoClip.VideoClip at 0x1bac54b0850>"
      ]
     },
     "execution_count": 15,
     "metadata": {},
     "output_type": "execute_result"
    }
   ],
   "source": [
    "final_clip"
   ]
  },
  {
   "cell_type": "code",
   "execution_count": 20,
   "metadata": {},
   "outputs": [
    {
     "name": "stdout",
     "output_type": "stream",
     "text": [
      "Moviepy - Building video E:\\coding\\github\\moviePyedro\\movies\\intros\\intro.mp4.\n",
      "MoviePy - Writing audio in introTEMP_MPY_wvf_snd.mp3\n"
     ]
    },
    {
     "name": "stderr",
     "output_type": "stream",
     "text": [
      "                                                               \r"
     ]
    },
    {
     "name": "stdout",
     "output_type": "stream",
     "text": [
      "MoviePy - Done.\n",
      "Moviepy - Writing video E:\\coding\\github\\moviePyedro\\movies\\intros\\intro.mp4\n",
      "\n"
     ]
    },
    {
     "name": "stderr",
     "output_type": "stream",
     "text": [
      "                                                           \r"
     ]
    },
    {
     "name": "stdout",
     "output_type": "stream",
     "text": [
      "Moviepy - Done !\n",
      "Moviepy - video ready E:\\coding\\github\\moviePyedro\\movies\\intros\\intro.mp4\n"
     ]
    }
   ],
   "source": [
    "final_clip.write_videofile(savetitle, threads=4, fps=24,\n",
    "                               codec=vcodec,\n",
    "                               preset=compression,\n",
    "                               ffmpeg_params=[\"-crf\",videoquality])"
   ]
  },
  {
   "cell_type": "code",
   "execution_count": 18,
   "metadata": {},
   "outputs": [
    {
     "ename": "OSError",
     "evalue": "MoviePy Error: creation of None failed because of the following error:\n\n[WinError 2] The system cannot find the file specified.\n\n.This error can be due to the fact that ImageMagick is not installed on your computer, or (for Windows users) that you didn't specify the path to the ImageMagick binary in file conf.py, or that the path you specified is incorrect",
     "output_type": "error",
     "traceback": [
      "\u001b[1;31m---------------------------------------------------------------------------\u001b[0m",
      "\u001b[1;31mFileNotFoundError\u001b[0m                         Traceback (most recent call last)",
      "File \u001b[1;32m~\\AppData\\Roaming\\Python\\Python310\\site-packages\\moviepy\\video\\VideoClip.py:1137\u001b[0m, in \u001b[0;36mTextClip.__init__\u001b[1;34m(self, txt, filename, size, color, bg_color, fontsize, font, stroke_color, stroke_width, method, kerning, align, interline, tempfilename, temptxt, transparent, remove_temp, print_cmd)\u001b[0m\n\u001b[0;32m   1136\u001b[0m \u001b[39mtry\u001b[39;00m:\n\u001b[1;32m-> 1137\u001b[0m     subprocess_call(cmd, logger\u001b[39m=\u001b[39;49m\u001b[39mNone\u001b[39;49;00m)\n\u001b[0;32m   1138\u001b[0m \u001b[39mexcept\u001b[39;00m (\u001b[39mIOError\u001b[39;00m, \u001b[39mOSError\u001b[39;00m) \u001b[39mas\u001b[39;00m err:\n",
      "File \u001b[1;32m~\\AppData\\Roaming\\Python\\Python310\\site-packages\\moviepy\\tools.py:46\u001b[0m, in \u001b[0;36msubprocess_call\u001b[1;34m(cmd, logger, errorprint)\u001b[0m\n\u001b[0;32m     44\u001b[0m     popen_params[\u001b[39m\"\u001b[39m\u001b[39mcreationflags\u001b[39m\u001b[39m\"\u001b[39m] \u001b[39m=\u001b[39m \u001b[39m0x08000000\u001b[39m\n\u001b[1;32m---> 46\u001b[0m proc \u001b[39m=\u001b[39m sp\u001b[39m.\u001b[39mPopen(cmd, \u001b[39m*\u001b[39m\u001b[39m*\u001b[39mpopen_params)\n\u001b[0;32m     48\u001b[0m out, err \u001b[39m=\u001b[39m proc\u001b[39m.\u001b[39mcommunicate() \u001b[39m# proc.wait()\u001b[39;00m\n",
      "File \u001b[1;32mc:\\ProgramData\\anaconda3\\lib\\subprocess.py:971\u001b[0m, in \u001b[0;36mPopen.__init__\u001b[1;34m(self, args, bufsize, executable, stdin, stdout, stderr, preexec_fn, close_fds, shell, cwd, env, universal_newlines, startupinfo, creationflags, restore_signals, start_new_session, pass_fds, user, group, extra_groups, encoding, errors, text, umask, pipesize)\u001b[0m\n\u001b[0;32m    968\u001b[0m             \u001b[39mself\u001b[39m\u001b[39m.\u001b[39mstderr \u001b[39m=\u001b[39m io\u001b[39m.\u001b[39mTextIOWrapper(\u001b[39mself\u001b[39m\u001b[39m.\u001b[39mstderr,\n\u001b[0;32m    969\u001b[0m                     encoding\u001b[39m=\u001b[39mencoding, errors\u001b[39m=\u001b[39merrors)\n\u001b[1;32m--> 971\u001b[0m     \u001b[39mself\u001b[39;49m\u001b[39m.\u001b[39;49m_execute_child(args, executable, preexec_fn, close_fds,\n\u001b[0;32m    972\u001b[0m                         pass_fds, cwd, env,\n\u001b[0;32m    973\u001b[0m                         startupinfo, creationflags, shell,\n\u001b[0;32m    974\u001b[0m                         p2cread, p2cwrite,\n\u001b[0;32m    975\u001b[0m                         c2pread, c2pwrite,\n\u001b[0;32m    976\u001b[0m                         errread, errwrite,\n\u001b[0;32m    977\u001b[0m                         restore_signals,\n\u001b[0;32m    978\u001b[0m                         gid, gids, uid, umask,\n\u001b[0;32m    979\u001b[0m                         start_new_session)\n\u001b[0;32m    980\u001b[0m \u001b[39mexcept\u001b[39;00m:\n\u001b[0;32m    981\u001b[0m     \u001b[39m# Cleanup if the child failed starting.\u001b[39;00m\n",
      "File \u001b[1;32mc:\\ProgramData\\anaconda3\\lib\\subprocess.py:1440\u001b[0m, in \u001b[0;36mPopen._execute_child\u001b[1;34m(self, args, executable, preexec_fn, close_fds, pass_fds, cwd, env, startupinfo, creationflags, shell, p2cread, p2cwrite, c2pread, c2pwrite, errread, errwrite, unused_restore_signals, unused_gid, unused_gids, unused_uid, unused_umask, unused_start_new_session)\u001b[0m\n\u001b[0;32m   1439\u001b[0m \u001b[39mtry\u001b[39;00m:\n\u001b[1;32m-> 1440\u001b[0m     hp, ht, pid, tid \u001b[39m=\u001b[39m _winapi\u001b[39m.\u001b[39;49mCreateProcess(executable, args,\n\u001b[0;32m   1441\u001b[0m                              \u001b[39m# no special security\u001b[39;49;00m\n\u001b[0;32m   1442\u001b[0m                              \u001b[39mNone\u001b[39;49;00m, \u001b[39mNone\u001b[39;49;00m,\n\u001b[0;32m   1443\u001b[0m                              \u001b[39mint\u001b[39;49m(\u001b[39mnot\u001b[39;49;00m close_fds),\n\u001b[0;32m   1444\u001b[0m                              creationflags,\n\u001b[0;32m   1445\u001b[0m                              env,\n\u001b[0;32m   1446\u001b[0m                              cwd,\n\u001b[0;32m   1447\u001b[0m                              startupinfo)\n\u001b[0;32m   1448\u001b[0m \u001b[39mfinally\u001b[39;00m:\n\u001b[0;32m   1449\u001b[0m     \u001b[39m# Child is launched. Close the parent's copy of those pipe\u001b[39;00m\n\u001b[0;32m   1450\u001b[0m     \u001b[39m# handles that only the child should have open.  You need\u001b[39;00m\n\u001b[1;32m   (...)\u001b[0m\n\u001b[0;32m   1453\u001b[0m     \u001b[39m# pipe will not close when the child process exits and the\u001b[39;00m\n\u001b[0;32m   1454\u001b[0m     \u001b[39m# ReadFile will hang.\u001b[39;00m\n",
      "\u001b[1;31mFileNotFoundError\u001b[0m: [WinError 2] The system cannot find the file specified",
      "\nDuring handling of the above exception, another exception occurred:\n",
      "\u001b[1;31mOSError\u001b[0m                                   Traceback (most recent call last)",
      "Cell \u001b[1;32mIn[18], line 1\u001b[0m\n\u001b[1;32m----> 1\u001b[0m txt \u001b[39m=\u001b[39m mpy\u001b[39m.\u001b[39;49mTextClip(\u001b[39m'\u001b[39;49m\u001b[39mPlease Subscribe!\u001b[39;49m\u001b[39m'\u001b[39;49m, font\u001b[39m=\u001b[39;49m\u001b[39m'\u001b[39;49m\u001b[39mCourier\u001b[39;49m\u001b[39m'\u001b[39;49m,\n\u001b[0;32m      2\u001b[0m                        fontsize\u001b[39m=\u001b[39;49m\u001b[39m120\u001b[39;49m, color\u001b[39m=\u001b[39;49m\u001b[39m'\u001b[39;49m\u001b[39mwhite\u001b[39;49m\u001b[39m'\u001b[39;49m, bg_color\u001b[39m=\u001b[39;49m\u001b[39m'\u001b[39;49m\u001b[39mgray35\u001b[39;49m\u001b[39m'\u001b[39;49m)\n",
      "File \u001b[1;32m~\\AppData\\Roaming\\Python\\Python310\\site-packages\\moviepy\\video\\VideoClip.py:1146\u001b[0m, in \u001b[0;36mTextClip.__init__\u001b[1;34m(self, txt, filename, size, color, bg_color, fontsize, font, stroke_color, stroke_width, method, kerning, align, interline, tempfilename, temptxt, transparent, remove_temp, print_cmd)\u001b[0m\n\u001b[0;32m   1138\u001b[0m \u001b[39mexcept\u001b[39;00m (\u001b[39mIOError\u001b[39;00m, \u001b[39mOSError\u001b[39;00m) \u001b[39mas\u001b[39;00m err:\n\u001b[0;32m   1139\u001b[0m     error \u001b[39m=\u001b[39m (\u001b[39m\"\u001b[39m\u001b[39mMoviePy Error: creation of \u001b[39m\u001b[39m%s\u001b[39;00m\u001b[39m failed because of the \u001b[39m\u001b[39m\"\u001b[39m\n\u001b[0;32m   1140\u001b[0m              \u001b[39m\"\u001b[39m\u001b[39mfollowing error:\u001b[39m\u001b[39m\\n\u001b[39;00m\u001b[39m\\n\u001b[39;00m\u001b[39m%s\u001b[39;00m\u001b[39m.\u001b[39m\u001b[39m\\n\u001b[39;00m\u001b[39m\\n\u001b[39;00m\u001b[39m.\u001b[39m\u001b[39m\"\u001b[39m \u001b[39m%\u001b[39m (filename, \u001b[39mstr\u001b[39m(err))\n\u001b[0;32m   1141\u001b[0m              \u001b[39m+\u001b[39m (\u001b[39m\"\u001b[39m\u001b[39mThis error can be due to the fact that ImageMagick \u001b[39m\u001b[39m\"\u001b[39m\n\u001b[1;32m   (...)\u001b[0m\n\u001b[0;32m   1144\u001b[0m                 \u001b[39m\"\u001b[39m\u001b[39mImageMagick binary in file conf.py, or that the path \u001b[39m\u001b[39m\"\u001b[39m\n\u001b[0;32m   1145\u001b[0m                 \u001b[39m\"\u001b[39m\u001b[39myou specified is incorrect\u001b[39m\u001b[39m\"\u001b[39m))\n\u001b[1;32m-> 1146\u001b[0m     \u001b[39mraise\u001b[39;00m \u001b[39mIOError\u001b[39;00m(error)\n\u001b[0;32m   1148\u001b[0m ImageClip\u001b[39m.\u001b[39m\u001b[39m__init__\u001b[39m(\u001b[39mself\u001b[39m, tempfilename, transparent\u001b[39m=\u001b[39mtransparent)\n\u001b[0;32m   1149\u001b[0m \u001b[39mself\u001b[39m\u001b[39m.\u001b[39mtxt \u001b[39m=\u001b[39m txt\n",
      "\u001b[1;31mOSError\u001b[0m: MoviePy Error: creation of None failed because of the following error:\n\n[WinError 2] The system cannot find the file specified.\n\n.This error can be due to the fact that ImageMagick is not installed on your computer, or (for Windows users) that you didn't specify the path to the ImageMagick binary in file conf.py, or that the path you specified is incorrect"
     ]
    }
   ],
   "source": [
    "txt = mpy.TextClip('Please Subscribe!', font='Courier',\n",
    "                       fontsize=120, color='white', bg_color='gray35')\n",
    "\n",
    "txt = txt.set_position(('center', 0.6), relative=True)\n",
    "txt = txt.set_start((0, 3)) # (min, s)\n",
    "txt = txt.set_duration(4)\n",
    "txt = txt.crossfadein(0.5)\n",
    "txt = txt.crossfadeout(0.5)\n",
    "\n",
    "final_clip = mpy.CompositeVideoClip([final_clip, txt])"
   ]
  },
  {
   "cell_type": "code",
   "execution_count": 10,
   "metadata": {},
   "outputs": [],
   "source": [
    "def edit_video(loadtitle, savetitle, cuts):\n",
    "    # load file\n",
    "    video = mpy.VideoFileClip(loadtitle)\n",
    "\n",
    "    # cut file\n",
    "    clips = []\n",
    "    for cut in cuts:\n",
    "        clip = video.subclip(cut[0], cut[1])\n",
    "        clips.append(clip)\n",
    "\n",
    "    final_clip = mpy.concatenate_videoclips(clips)\n",
    "\n",
    "    # add text\n",
    "    txt = mpy.TextClip('Please Subscribe!', font='Courier',\n",
    "                       fontsize=120, color='white', bg_color='gray35')\n",
    "    txt = txt.set_position(('center', 0.6), relative=True)\n",
    "    txt = txt.set_start((0, 3)) # (min, s)\n",
    "    txt = txt.set_duration(4)\n",
    "    txt = txt.crossfadein(0.5)\n",
    "    txt = txt.crossfadeout(0.5)\n",
    "\n",
    "    final_clip = mpy.CompositeVideoClip([final_clip, txt])\n",
    "\n",
    "    # save file\n",
    "    final_clip.write_videofile(savetitle, threads=4, fps=24,\n",
    "                               codec=vcodec,\n",
    "                               preset=compression,\n",
    "                               ffmpeg_params=[\"-crf\",videoquality])\n",
    "\n",
    "    video.close()\n"
   ]
  },
  {
   "cell_type": "code",
   "execution_count": 11,
   "metadata": {},
   "outputs": [
    {
     "ename": "OSError",
     "evalue": "MoviePy Error: creation of None failed because of the following error:\n\n[WinError 2] The system cannot find the file specified.\n\n.This error can be due to the fact that ImageMagick is not installed on your computer, or (for Windows users) that you didn't specify the path to the ImageMagick binary in file conf.py, or that the path you specified is incorrect",
     "output_type": "error",
     "traceback": [
      "\u001b[1;31m---------------------------------------------------------------------------\u001b[0m",
      "\u001b[1;31mFileNotFoundError\u001b[0m                         Traceback (most recent call last)",
      "File \u001b[1;32m~\\AppData\\Roaming\\Python\\Python310\\site-packages\\moviepy\\video\\VideoClip.py:1137\u001b[0m, in \u001b[0;36mTextClip.__init__\u001b[1;34m(self, txt, filename, size, color, bg_color, fontsize, font, stroke_color, stroke_width, method, kerning, align, interline, tempfilename, temptxt, transparent, remove_temp, print_cmd)\u001b[0m\n\u001b[0;32m   1136\u001b[0m \u001b[39mtry\u001b[39;00m:\n\u001b[1;32m-> 1137\u001b[0m     subprocess_call(cmd, logger\u001b[39m=\u001b[39;49m\u001b[39mNone\u001b[39;49;00m)\n\u001b[0;32m   1138\u001b[0m \u001b[39mexcept\u001b[39;00m (\u001b[39mIOError\u001b[39;00m, \u001b[39mOSError\u001b[39;00m) \u001b[39mas\u001b[39;00m err:\n",
      "File \u001b[1;32m~\\AppData\\Roaming\\Python\\Python310\\site-packages\\moviepy\\tools.py:46\u001b[0m, in \u001b[0;36msubprocess_call\u001b[1;34m(cmd, logger, errorprint)\u001b[0m\n\u001b[0;32m     44\u001b[0m     popen_params[\u001b[39m\"\u001b[39m\u001b[39mcreationflags\u001b[39m\u001b[39m\"\u001b[39m] \u001b[39m=\u001b[39m \u001b[39m0x08000000\u001b[39m\n\u001b[1;32m---> 46\u001b[0m proc \u001b[39m=\u001b[39m sp\u001b[39m.\u001b[39mPopen(cmd, \u001b[39m*\u001b[39m\u001b[39m*\u001b[39mpopen_params)\n\u001b[0;32m     48\u001b[0m out, err \u001b[39m=\u001b[39m proc\u001b[39m.\u001b[39mcommunicate() \u001b[39m# proc.wait()\u001b[39;00m\n",
      "File \u001b[1;32mc:\\ProgramData\\anaconda3\\lib\\subprocess.py:971\u001b[0m, in \u001b[0;36mPopen.__init__\u001b[1;34m(self, args, bufsize, executable, stdin, stdout, stderr, preexec_fn, close_fds, shell, cwd, env, universal_newlines, startupinfo, creationflags, restore_signals, start_new_session, pass_fds, user, group, extra_groups, encoding, errors, text, umask, pipesize)\u001b[0m\n\u001b[0;32m    968\u001b[0m             \u001b[39mself\u001b[39m\u001b[39m.\u001b[39mstderr \u001b[39m=\u001b[39m io\u001b[39m.\u001b[39mTextIOWrapper(\u001b[39mself\u001b[39m\u001b[39m.\u001b[39mstderr,\n\u001b[0;32m    969\u001b[0m                     encoding\u001b[39m=\u001b[39mencoding, errors\u001b[39m=\u001b[39merrors)\n\u001b[1;32m--> 971\u001b[0m     \u001b[39mself\u001b[39;49m\u001b[39m.\u001b[39;49m_execute_child(args, executable, preexec_fn, close_fds,\n\u001b[0;32m    972\u001b[0m                         pass_fds, cwd, env,\n\u001b[0;32m    973\u001b[0m                         startupinfo, creationflags, shell,\n\u001b[0;32m    974\u001b[0m                         p2cread, p2cwrite,\n\u001b[0;32m    975\u001b[0m                         c2pread, c2pwrite,\n\u001b[0;32m    976\u001b[0m                         errread, errwrite,\n\u001b[0;32m    977\u001b[0m                         restore_signals,\n\u001b[0;32m    978\u001b[0m                         gid, gids, uid, umask,\n\u001b[0;32m    979\u001b[0m                         start_new_session)\n\u001b[0;32m    980\u001b[0m \u001b[39mexcept\u001b[39;00m:\n\u001b[0;32m    981\u001b[0m     \u001b[39m# Cleanup if the child failed starting.\u001b[39;00m\n",
      "File \u001b[1;32mc:\\ProgramData\\anaconda3\\lib\\subprocess.py:1440\u001b[0m, in \u001b[0;36mPopen._execute_child\u001b[1;34m(self, args, executable, preexec_fn, close_fds, pass_fds, cwd, env, startupinfo, creationflags, shell, p2cread, p2cwrite, c2pread, c2pwrite, errread, errwrite, unused_restore_signals, unused_gid, unused_gids, unused_uid, unused_umask, unused_start_new_session)\u001b[0m\n\u001b[0;32m   1439\u001b[0m \u001b[39mtry\u001b[39;00m:\n\u001b[1;32m-> 1440\u001b[0m     hp, ht, pid, tid \u001b[39m=\u001b[39m _winapi\u001b[39m.\u001b[39;49mCreateProcess(executable, args,\n\u001b[0;32m   1441\u001b[0m                              \u001b[39m# no special security\u001b[39;49;00m\n\u001b[0;32m   1442\u001b[0m                              \u001b[39mNone\u001b[39;49;00m, \u001b[39mNone\u001b[39;49;00m,\n\u001b[0;32m   1443\u001b[0m                              \u001b[39mint\u001b[39;49m(\u001b[39mnot\u001b[39;49;00m close_fds),\n\u001b[0;32m   1444\u001b[0m                              creationflags,\n\u001b[0;32m   1445\u001b[0m                              env,\n\u001b[0;32m   1446\u001b[0m                              cwd,\n\u001b[0;32m   1447\u001b[0m                              startupinfo)\n\u001b[0;32m   1448\u001b[0m \u001b[39mfinally\u001b[39;00m:\n\u001b[0;32m   1449\u001b[0m     \u001b[39m# Child is launched. Close the parent's copy of those pipe\u001b[39;00m\n\u001b[0;32m   1450\u001b[0m     \u001b[39m# handles that only the child should have open.  You need\u001b[39;00m\n\u001b[1;32m   (...)\u001b[0m\n\u001b[0;32m   1453\u001b[0m     \u001b[39m# pipe will not close when the child process exits and the\u001b[39;00m\n\u001b[0;32m   1454\u001b[0m     \u001b[39m# ReadFile will hang.\u001b[39;00m\n",
      "\u001b[1;31mFileNotFoundError\u001b[0m: [WinError 2] The system cannot find the file specified",
      "\nDuring handling of the above exception, another exception occurred:\n",
      "\u001b[1;31mOSError\u001b[0m                                   Traceback (most recent call last)",
      "Cell \u001b[1;32mIn[11], line 1\u001b[0m\n\u001b[1;32m----> 1\u001b[0m edit_video(loadtitle, savetitle, cuts)\n",
      "Cell \u001b[1;32mIn[10], line 14\u001b[0m, in \u001b[0;36medit_video\u001b[1;34m(loadtitle, savetitle, cuts)\u001b[0m\n\u001b[0;32m     11\u001b[0m final_clip \u001b[39m=\u001b[39m mpy\u001b[39m.\u001b[39mconcatenate_videoclips(clips)\n\u001b[0;32m     13\u001b[0m \u001b[39m# add text\u001b[39;00m\n\u001b[1;32m---> 14\u001b[0m txt \u001b[39m=\u001b[39m mpy\u001b[39m.\u001b[39;49mTextClip(\u001b[39m'\u001b[39;49m\u001b[39mPlease Subscribe!\u001b[39;49m\u001b[39m'\u001b[39;49m, font\u001b[39m=\u001b[39;49m\u001b[39m'\u001b[39;49m\u001b[39mCourier\u001b[39;49m\u001b[39m'\u001b[39;49m,\n\u001b[0;32m     15\u001b[0m                    fontsize\u001b[39m=\u001b[39;49m\u001b[39m120\u001b[39;49m, color\u001b[39m=\u001b[39;49m\u001b[39m'\u001b[39;49m\u001b[39mwhite\u001b[39;49m\u001b[39m'\u001b[39;49m, bg_color\u001b[39m=\u001b[39;49m\u001b[39m'\u001b[39;49m\u001b[39mgray35\u001b[39;49m\u001b[39m'\u001b[39;49m)\n\u001b[0;32m     16\u001b[0m txt \u001b[39m=\u001b[39m txt\u001b[39m.\u001b[39mset_position((\u001b[39m'\u001b[39m\u001b[39mcenter\u001b[39m\u001b[39m'\u001b[39m, \u001b[39m0.6\u001b[39m), relative\u001b[39m=\u001b[39m\u001b[39mTrue\u001b[39;00m)\n\u001b[0;32m     17\u001b[0m txt \u001b[39m=\u001b[39m txt\u001b[39m.\u001b[39mset_start((\u001b[39m0\u001b[39m, \u001b[39m3\u001b[39m)) \u001b[39m# (min, s)\u001b[39;00m\n",
      "File \u001b[1;32m~\\AppData\\Roaming\\Python\\Python310\\site-packages\\moviepy\\video\\VideoClip.py:1146\u001b[0m, in \u001b[0;36mTextClip.__init__\u001b[1;34m(self, txt, filename, size, color, bg_color, fontsize, font, stroke_color, stroke_width, method, kerning, align, interline, tempfilename, temptxt, transparent, remove_temp, print_cmd)\u001b[0m\n\u001b[0;32m   1138\u001b[0m \u001b[39mexcept\u001b[39;00m (\u001b[39mIOError\u001b[39;00m, \u001b[39mOSError\u001b[39;00m) \u001b[39mas\u001b[39;00m err:\n\u001b[0;32m   1139\u001b[0m     error \u001b[39m=\u001b[39m (\u001b[39m\"\u001b[39m\u001b[39mMoviePy Error: creation of \u001b[39m\u001b[39m%s\u001b[39;00m\u001b[39m failed because of the \u001b[39m\u001b[39m\"\u001b[39m\n\u001b[0;32m   1140\u001b[0m              \u001b[39m\"\u001b[39m\u001b[39mfollowing error:\u001b[39m\u001b[39m\\n\u001b[39;00m\u001b[39m\\n\u001b[39;00m\u001b[39m%s\u001b[39;00m\u001b[39m.\u001b[39m\u001b[39m\\n\u001b[39;00m\u001b[39m\\n\u001b[39;00m\u001b[39m.\u001b[39m\u001b[39m\"\u001b[39m \u001b[39m%\u001b[39m (filename, \u001b[39mstr\u001b[39m(err))\n\u001b[0;32m   1141\u001b[0m              \u001b[39m+\u001b[39m (\u001b[39m\"\u001b[39m\u001b[39mThis error can be due to the fact that ImageMagick \u001b[39m\u001b[39m\"\u001b[39m\n\u001b[1;32m   (...)\u001b[0m\n\u001b[0;32m   1144\u001b[0m                 \u001b[39m\"\u001b[39m\u001b[39mImageMagick binary in file conf.py, or that the path \u001b[39m\u001b[39m\"\u001b[39m\n\u001b[0;32m   1145\u001b[0m                 \u001b[39m\"\u001b[39m\u001b[39myou specified is incorrect\u001b[39m\u001b[39m\"\u001b[39m))\n\u001b[1;32m-> 1146\u001b[0m     \u001b[39mraise\u001b[39;00m \u001b[39mIOError\u001b[39;00m(error)\n\u001b[0;32m   1148\u001b[0m ImageClip\u001b[39m.\u001b[39m\u001b[39m__init__\u001b[39m(\u001b[39mself\u001b[39m, tempfilename, transparent\u001b[39m=\u001b[39mtransparent)\n\u001b[0;32m   1149\u001b[0m \u001b[39mself\u001b[39m\u001b[39m.\u001b[39mtxt \u001b[39m=\u001b[39m txt\n",
      "\u001b[1;31mOSError\u001b[0m: MoviePy Error: creation of None failed because of the following error:\n\n[WinError 2] The system cannot find the file specified.\n\n.This error can be due to the fact that ImageMagick is not installed on your computer, or (for Windows users) that you didn't specify the path to the ImageMagick binary in file conf.py, or that the path you specified is incorrect"
     ]
    }
   ],
   "source": [
    "edit_video(loadtitle, savetitle, cuts)"
   ]
  },
  {
   "cell_type": "code",
   "execution_count": 2,
   "metadata": {},
   "outputs": [
    {
     "ename": "NameError",
     "evalue": "name 'VideoFileClip' is not defined",
     "output_type": "error",
     "traceback": [
      "\u001b[1;31m---------------------------------------------------------------------------\u001b[0m",
      "\u001b[1;31mNameError\u001b[0m                                 Traceback (most recent call last)",
      "Cell \u001b[1;32mIn[2], line 1\u001b[0m\n\u001b[1;32m----> 1\u001b[0m video \u001b[39m=\u001b[39m VideoFileClip(\u001b[39m\"\u001b[39m\u001b[39mE:\u001b[39m\u001b[39m\\\u001b[39m\u001b[39mcoding\u001b[39m\u001b[39m\\\u001b[39m\u001b[39mgithub\u001b[39m\u001b[39m\\\u001b[39m\u001b[39mmoviePyedro\u001b[39m\u001b[39m\\\u001b[39m\u001b[39mmovies\u001b[39m\u001b[39m\\\u001b[39m\u001b[39mintros\u001b[39m\u001b[39m\\\u001b[39m\u001b[39mintro.3gp\u001b[39m\u001b[39m\"\u001b[39m)\u001b[39m.\u001b[39msubclip(\u001b[39m50\u001b[39m,\u001b[39m60\u001b[39m)\n",
      "\u001b[1;31mNameError\u001b[0m: name 'VideoFileClip' is not defined"
     ]
    }
   ],
   "source": [
    "\n",
    "video = VideoFileClip(\"E:\\coding\\github\\moviePyedro\\movies\\intros\\intro.3gp\").subclip(50,60)"
   ]
  },
  {
   "cell_type": "code",
   "execution_count": null,
   "metadata": {},
   "outputs": [],
   "source": [
    "\n",
    "# Make the text. Many more options are available.\n",
    "txt_clip = ( TextClip(\"My Holidays 2013\",fontsize=70,color='white')\n",
    "             .with_position('center')\n",
    "             .with_duration(10) )\n",
    "\n",
    "result = CompositeVideoClip([video, txt_clip]) # Overlay text on video\n",
    "result.write_videofile(\"myHolidays_edited.webm\",fps=25) # Many options..."
   ]
  }
 ],
 "metadata": {
  "kernelspec": {
   "display_name": "base",
   "language": "python",
   "name": "python3"
  },
  "language_info": {
   "codemirror_mode": {
    "name": "ipython",
    "version": 3
   },
   "file_extension": ".py",
   "mimetype": "text/x-python",
   "name": "python",
   "nbconvert_exporter": "python",
   "pygments_lexer": "ipython3",
   "version": "3.10.9"
  },
  "orig_nbformat": 4
 },
 "nbformat": 4,
 "nbformat_minor": 2
}
