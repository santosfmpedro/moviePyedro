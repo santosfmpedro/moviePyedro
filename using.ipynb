{
 "cells": [
  {
   "cell_type": "code",
   "execution_count": 1,
   "metadata": {},
   "outputs": [],
   "source": [
    "import moviepy.editor as mpy\n",
    "\n",
    "vcodec =   \"libx264\"\n",
    "\n",
    "videoquality = \"24\"\n",
    "\n",
    "# slow, ultrafast, superfast, veryfast, faster, fast, medium, slow, slower, veryslow\n",
    "compression = \"slow\"\n",
    "\n",
    "title = \"E:\\coding\\github\\moviePyedro\\movies\\intros\\intro\"\n",
    "loadtitle = title + '.3gp'\n",
    "savetitle = title + '.mp4'\n",
    "\n",
    "# modify these start and end times for your subclips\n",
    "cuts = [('00:00:00.949', '00:00:01.152'),\n",
    "        ('00:00:02.328', '00:00:03.077')]\n"
   ]
  },
  {
   "cell_type": "code",
   "execution_count": 4,
   "metadata": {},
   "outputs": [],
   "source": [
    "\n",
    "def edit_video(loadtitle, savetitle, cuts):\n",
    "    # load file\n",
    "    video = mpy.VideoFileClip(loadtitle)\n",
    "\n",
    "    # cut file\n",
    "    clips = []\n",
    "    for cut in cuts:\n",
    "        clip = video.subclip(cut[0], cut[1])\n",
    "        clips.append(clip)\n",
    "\n",
    "    final_clip = mpy.concatenate_videoclips(clips)\n",
    "\n",
    "    # add text\n",
    "    txt = mpy.TextClip('Please Subscribe!', font='Courier',\n",
    "                       fontsize=10, color='white', bg_color='gray35')\n",
    "    txt = txt.set_position(('center', 0.6), relative=True)\n",
    "    txt = txt.set_start((0, 3)) # (min, s)\n",
    "    txt = txt.set_duration(4)\n",
    "    txt = txt.crossfadein(0.5)\n",
    "    txt = txt.crossfadeout(0.5)\n",
    "\n",
    "    final_clip = mpy.CompositeVideoClip([final_clip, txt])\n",
    "\n",
    "    # save file\n",
    "    final_clip.write_videofile(savetitle, threads=4, fps=24,\n",
    "                               codec=vcodec,\n",
    "                               preset=compression,\n",
    "                               ffmpeg_params=[\"-crf\",videoquality])\n",
    "\n",
    "    video.close()\n"
   ]
  },
  {
   "cell_type": "code",
   "execution_count": 5,
   "metadata": {},
   "outputs": [
    {
     "name": "stdout",
     "output_type": "stream",
     "text": [
      "Moviepy - Building video E:\\coding\\github\\moviePyedro\\movies\\intros\\intro.mp4.\n",
      "MoviePy - Writing audio in introTEMP_MPY_wvf_snd.mp3\n"
     ]
    },
    {
     "name": "stderr",
     "output_type": "stream",
     "text": [
      "                                                                 \r"
     ]
    },
    {
     "name": "stdout",
     "output_type": "stream",
     "text": [
      "MoviePy - Done.\n",
      "Moviepy - Writing video E:\\coding\\github\\moviePyedro\\movies\\intros\\intro.mp4\n",
      "\n"
     ]
    },
    {
     "name": "stderr",
     "output_type": "stream",
     "text": [
      "                                                               \r"
     ]
    },
    {
     "name": "stdout",
     "output_type": "stream",
     "text": [
      "Moviepy - Done !\n",
      "Moviepy - video ready E:\\coding\\github\\moviePyedro\\movies\\intros\\intro.mp4\n"
     ]
    }
   ],
   "source": [
    "edit_video(loadtitle, savetitle, cuts)"
   ]
  }
 ],
 "metadata": {
  "kernelspec": {
   "display_name": "base",
   "language": "python",
   "name": "python3"
  },
  "language_info": {
   "codemirror_mode": {
    "name": "ipython",
    "version": 3
   },
   "file_extension": ".py",
   "mimetype": "text/x-python",
   "name": "python",
   "nbconvert_exporter": "python",
   "pygments_lexer": "ipython3",
   "version": "3.10.9"
  },
  "orig_nbformat": 4
 },
 "nbformat": 4,
 "nbformat_minor": 2
}
